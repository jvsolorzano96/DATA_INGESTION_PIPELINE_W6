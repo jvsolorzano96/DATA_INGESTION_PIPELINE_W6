{
 "cells": [
  {
   "cell_type": "markdown",
   "id": "ce440664",
   "metadata": {},
   "source": [
    "# DATA INGESTION PIPELINE\n",
    "\n",
    "The main objective of this project is the development of a Data Ingestion Pipeline.\n",
    "\n",
    "There are 2 files. \"config.yaml\", where you will find the basic validations for incoming data. \"functions.py\", where are defined the functions needed to do the validations we mentioned.\n",
    "\n",
    "## Dataset\n",
    "\n",
    "FILE NAME: \"survival_data.csv\"\n",
    "\n",
    "SIZE: \"6,53 GB\"\n",
    "\n",
    "COLUMNS: \"8\"\n",
    "\n",
    "ROWS: \"88809774\"  \n",
    "\n",
    "TOPIC: \"Life Insurance Company Clients\"\n",
    "\n",
    "SOURCE: \"https://www.kaggle.com/louise2001/survival-analysis-synthetic-data?select=survival_data.csv\""
   ]
  },
  {
   "cell_type": "markdown",
   "id": "e7d37e56",
   "metadata": {},
   "source": [
    "### Needed libraries"
   ]
  },
  {
   "cell_type": "code",
   "execution_count": 18,
   "id": "0692eda1",
   "metadata": {},
   "outputs": [],
   "source": [
    "import logging\n",
    "import os\n",
    "import subprocess\n",
    "import yaml\n",
    "import pandas as pd\n",
    "import datetime \n",
    "import gc\n",
    "import re\n",
    "import dask.dataframe \n"
   ]
  },
  {
   "cell_type": "markdown",
   "id": "ca8331e9",
   "metadata": {},
   "source": [
    "### We are going to variabilize de the configuration file path"
   ]
  },
  {
   "cell_type": "code",
   "execution_count": 19,
   "id": "ca1e5a3e",
   "metadata": {},
   "outputs": [],
   "source": [
    "config_path= r'/Users/vicentesolorzano/Desktop/DATA_GLACIER/WEEK_6_DATA_INGESTION_PIPELINE/DATA_INGESTION_PIPELINE_W6'"
   ]
  },
  {
   "cell_type": "markdown",
   "id": "84aaedf4",
   "metadata": {},
   "source": [
    "### Importation of the functions file (\"functions.py\")"
   ]
  },
  {
   "cell_type": "code",
   "execution_count": 20,
   "id": "83aaa434",
   "metadata": {},
   "outputs": [],
   "source": [
    "import functions as fxx"
   ]
  },
  {
   "cell_type": "markdown",
   "id": "04a308f8",
   "metadata": {},
   "source": [
    "### Configurations file"
   ]
  },
  {
   "cell_type": "code",
   "execution_count": 21,
   "id": "eb97aed0",
   "metadata": {},
   "outputs": [
    {
     "data": {
      "text/plain": [
       "{'data_directory': '/Users/vicentesolorzano/Desktop/DATA_GLACIER/WEEK_6_DATA_INGESTION_PIPELINE/DATA_INGESTION_PIPELINE_W6/data',\n",
       " 'data_name': 'survival_data.csv',\n",
       " 'inbound_delimiter': ',',\n",
       " 'outbound_delimiter': '|',\n",
       " 'columns_names': ['client_id',\n",
       "  'age_start_observed',\n",
       "  'age_end',\n",
       "  'is_truncated',\n",
       "  'is_censored',\n",
       "  'is_dead',\n",
       "  'date_start_observed',\n",
       "  'date_end_observed'],\n",
       " 'drop_columns': ['date_start_observed', 'date_end_observed'],\n",
       " 'data_type': {'client_id': 'int32',\n",
       "  'age_start_observed': 'int8',\n",
       "  'age_end': 'int8',\n",
       "  'is_truncated': 'bool',\n",
       "  'is_censored': 'bool',\n",
       "  'is_dead': 'bool',\n",
       "  'date_start_observed': None,\n",
       "  'date_end_observed': None},\n",
       " 'data_clean_folder': '/Users/vicentesolorzano/Desktop/DATA_GLACIER/WEEK_6_DATA_INGESTION_PIPELINE/DATA_INGESTION_PIPELINE_W6/data_clean',\n",
       " 'clean_data': 'data_clean.gzip'}"
      ]
     },
     "execution_count": 21,
     "metadata": {},
     "output_type": "execute_result"
    }
   ],
   "source": [
    "config_file = fxx.load_config_file('config.yaml',config_path)\n",
    "config_file"
   ]
  },
  {
   "cell_type": "markdown",
   "id": "f0cf0fe8",
   "metadata": {},
   "source": [
    "### Dataset"
   ]
  },
  {
   "cell_type": "code",
   "execution_count": 22,
   "id": "e3d4c41e",
   "metadata": {},
   "outputs": [
    {
     "name": "stdout",
     "output_type": "stream",
     "text": [
      "Data Uploaded from /Users/vicentesolorzano/Desktop/DATA_GLACIER/WEEK_6_DATA_INGESTION_PIPELINE/DATA_INGESTION_PIPELINE_W6/data  name =  survival_data.csv\n"
     ]
    }
   ],
   "source": [
    "data = fxx.load_data(config_file)"
   ]
  },
  {
   "cell_type": "code",
   "execution_count": 23,
   "id": "fe0b26bc",
   "metadata": {
    "scrolled": true
   },
   "outputs": [
    {
     "data": {
      "text/html": [
       "<div>\n",
       "<style scoped>\n",
       "    .dataframe tbody tr th:only-of-type {\n",
       "        vertical-align: middle;\n",
       "    }\n",
       "\n",
       "    .dataframe tbody tr th {\n",
       "        vertical-align: top;\n",
       "    }\n",
       "\n",
       "    .dataframe thead th {\n",
       "        text-align: right;\n",
       "    }\n",
       "</style>\n",
       "<table border=\"1\" class=\"dataframe\">\n",
       "  <thead>\n",
       "    <tr style=\"text-align: right;\">\n",
       "      <th></th>\n",
       "      <th>Unnamed: 0</th>\n",
       "      <th>age_start_observed</th>\n",
       "      <th>age_end</th>\n",
       "      <th>is_truncated</th>\n",
       "      <th>is_censored</th>\n",
       "      <th>is_dead</th>\n",
       "      <th>date_start_observed</th>\n",
       "      <th>date_end_observed</th>\n",
       "    </tr>\n",
       "  </thead>\n",
       "  <tbody>\n",
       "    <tr>\n",
       "      <th>0</th>\n",
       "      <td>15113102</td>\n",
       "      <td>0.0</td>\n",
       "      <td>9.097335</td>\n",
       "      <td>False</td>\n",
       "      <td>True</td>\n",
       "      <td>False</td>\n",
       "      <td>1908-11-17</td>\n",
       "      <td>1917-12-22</td>\n",
       "    </tr>\n",
       "    <tr>\n",
       "      <th>1</th>\n",
       "      <td>41505894</td>\n",
       "      <td>0.0</td>\n",
       "      <td>64.486689</td>\n",
       "      <td>False</td>\n",
       "      <td>True</td>\n",
       "      <td>False</td>\n",
       "      <td>1828-09-13</td>\n",
       "      <td>1893-03-10</td>\n",
       "    </tr>\n",
       "    <tr>\n",
       "      <th>2</th>\n",
       "      <td>24774171</td>\n",
       "      <td>0.0</td>\n",
       "      <td>33.071552</td>\n",
       "      <td>False</td>\n",
       "      <td>True</td>\n",
       "      <td>False</td>\n",
       "      <td>1911-02-07</td>\n",
       "      <td>1944-03-04</td>\n",
       "    </tr>\n",
       "  </tbody>\n",
       "</table>\n",
       "</div>"
      ],
      "text/plain": [
       "   Unnamed: 0  age_start_observed    age_end  is_truncated  is_censored  \\\n",
       "0    15113102                 0.0   9.097335         False         True   \n",
       "1    41505894                 0.0  64.486689         False         True   \n",
       "2    24774171                 0.0  33.071552         False         True   \n",
       "\n",
       "   is_dead date_start_observed date_end_observed  \n",
       "0    False          1908-11-17        1917-12-22  \n",
       "1    False          1828-09-13        1893-03-10  \n",
       "2    False          1911-02-07        1944-03-04  "
      ]
     },
     "execution_count": 23,
     "metadata": {},
     "output_type": "execute_result"
    }
   ],
   "source": [
    "data.head(3)\n"
   ]
  },
  {
   "cell_type": "markdown",
   "id": "c2f0ec79",
   "metadata": {},
   "source": [
    "### Rename columns with defined names in config file"
   ]
  },
  {
   "cell_type": "code",
   "execution_count": 24,
   "id": "c7dea494",
   "metadata": {},
   "outputs": [
    {
     "data": {
      "text/html": [
       "<div>\n",
       "<style scoped>\n",
       "    .dataframe tbody tr th:only-of-type {\n",
       "        vertical-align: middle;\n",
       "    }\n",
       "\n",
       "    .dataframe tbody tr th {\n",
       "        vertical-align: top;\n",
       "    }\n",
       "\n",
       "    .dataframe thead th {\n",
       "        text-align: right;\n",
       "    }\n",
       "</style>\n",
       "<table border=\"1\" class=\"dataframe\">\n",
       "  <thead>\n",
       "    <tr style=\"text-align: right;\">\n",
       "      <th></th>\n",
       "      <th>client_id</th>\n",
       "      <th>age_start_observed</th>\n",
       "      <th>age_end</th>\n",
       "      <th>is_truncated</th>\n",
       "      <th>is_censored</th>\n",
       "      <th>is_dead</th>\n",
       "      <th>date_start_observed</th>\n",
       "      <th>date_end_observed</th>\n",
       "    </tr>\n",
       "  </thead>\n",
       "  <tbody>\n",
       "    <tr>\n",
       "      <th>0</th>\n",
       "      <td>15113102</td>\n",
       "      <td>0.0</td>\n",
       "      <td>9.097335</td>\n",
       "      <td>False</td>\n",
       "      <td>True</td>\n",
       "      <td>False</td>\n",
       "      <td>1908-11-17</td>\n",
       "      <td>1917-12-22</td>\n",
       "    </tr>\n",
       "    <tr>\n",
       "      <th>1</th>\n",
       "      <td>41505894</td>\n",
       "      <td>0.0</td>\n",
       "      <td>64.486689</td>\n",
       "      <td>False</td>\n",
       "      <td>True</td>\n",
       "      <td>False</td>\n",
       "      <td>1828-09-13</td>\n",
       "      <td>1893-03-10</td>\n",
       "    </tr>\n",
       "  </tbody>\n",
       "</table>\n",
       "</div>"
      ],
      "text/plain": [
       "   client_id  age_start_observed    age_end  is_truncated  is_censored  \\\n",
       "0   15113102                 0.0   9.097335         False         True   \n",
       "1   41505894                 0.0  64.486689         False         True   \n",
       "\n",
       "   is_dead date_start_observed date_end_observed  \n",
       "0    False          1908-11-17        1917-12-22  \n",
       "1    False          1828-09-13        1893-03-10  "
      ]
     },
     "execution_count": 24,
     "metadata": {},
     "output_type": "execute_result"
    }
   ],
   "source": [
    "fxx.rename_columns(data,config_file)"
   ]
  },
  {
   "cell_type": "markdown",
   "id": "bef2d94a",
   "metadata": {},
   "source": [
    "### Headers validation"
   ]
  },
  {
   "cell_type": "code",
   "execution_count": 25,
   "id": "34d53858",
   "metadata": {},
   "outputs": [
    {
     "name": "stdout",
     "output_type": "stream",
     "text": [
      "Columns headers validation passed\n"
     ]
    },
    {
     "data": {
      "text/plain": [
       "1"
      ]
     },
     "execution_count": 25,
     "metadata": {},
     "output_type": "execute_result"
    }
   ],
   "source": [
    "fxx.headers_validation(data,config_file)"
   ]
  },
  {
   "cell_type": "markdown",
   "id": "ac9ee7d8",
   "metadata": {},
   "source": [
    "### Drop irrelevant features"
   ]
  },
  {
   "cell_type": "code",
   "execution_count": 26,
   "id": "db195aca",
   "metadata": {},
   "outputs": [
    {
     "data": {
      "text/plain": [
       "8"
      ]
     },
     "execution_count": 26,
     "metadata": {},
     "output_type": "execute_result"
    }
   ],
   "source": [
    "len(data.columns)"
   ]
  },
  {
   "cell_type": "code",
   "execution_count": 27,
   "id": "9f3cf38d",
   "metadata": {},
   "outputs": [
    {
     "data": {
      "text/plain": [
       "client_id                int64\n",
       "age_start_observed     float64\n",
       "age_end                float64\n",
       "is_truncated              bool\n",
       "is_censored               bool\n",
       "is_dead                   bool\n",
       "date_start_observed     object\n",
       "date_end_observed       object\n",
       "dtype: object"
      ]
     },
     "execution_count": 27,
     "metadata": {},
     "output_type": "execute_result"
    }
   ],
   "source": [
    "data.dtypes"
   ]
  },
  {
   "cell_type": "code",
   "execution_count": 28,
   "id": "48400ea6",
   "metadata": {},
   "outputs": [],
   "source": [
    "data = fxx.drop_irrelevant(data, config_file)"
   ]
  },
  {
   "cell_type": "code",
   "execution_count": 29,
   "id": "84e5f61b",
   "metadata": {},
   "outputs": [
    {
     "data": {
      "text/plain": [
       "6"
      ]
     },
     "execution_count": 29,
     "metadata": {},
     "output_type": "execute_result"
    }
   ],
   "source": [
    "len(data.columns)"
   ]
  },
  {
   "cell_type": "code",
   "execution_count": 31,
   "id": "1081a4ce",
   "metadata": {},
   "outputs": [
    {
     "data": {
      "text/plain": [
       "Index(['client_id', 'age_start_observed', 'age_end', 'is_truncated',\n",
       "       'is_censored', 'is_dead'],\n",
       "      dtype='object')"
      ]
     },
     "execution_count": 31,
     "metadata": {},
     "output_type": "execute_result"
    }
   ],
   "source": [
    "data.columns"
   ]
  },
  {
   "cell_type": "markdown",
   "id": "fbb774f4",
   "metadata": {},
   "source": [
    "### Memory optimization"
   ]
  },
  {
   "cell_type": "code",
   "execution_count": 32,
   "id": "f8ba3043",
   "metadata": {},
   "outputs": [
    {
     "data": {
      "text/html": [
       "<div><strong>Dask DataFrame Structure:</strong></div>\n",
       "<div>\n",
       "<style scoped>\n",
       "    .dataframe tbody tr th:only-of-type {\n",
       "        vertical-align: middle;\n",
       "    }\n",
       "\n",
       "    .dataframe tbody tr th {\n",
       "        vertical-align: top;\n",
       "    }\n",
       "\n",
       "    .dataframe thead th {\n",
       "        text-align: right;\n",
       "    }\n",
       "</style>\n",
       "<table border=\"1\" class=\"dataframe\">\n",
       "  <thead>\n",
       "    <tr style=\"text-align: right;\">\n",
       "      <th></th>\n",
       "      <th>client_id</th>\n",
       "      <th>age_start_observed</th>\n",
       "      <th>age_end</th>\n",
       "      <th>is_truncated</th>\n",
       "      <th>is_censored</th>\n",
       "      <th>is_dead</th>\n",
       "    </tr>\n",
       "    <tr>\n",
       "      <th>npartitions=102</th>\n",
       "      <th></th>\n",
       "      <th></th>\n",
       "      <th></th>\n",
       "      <th></th>\n",
       "      <th></th>\n",
       "      <th></th>\n",
       "    </tr>\n",
       "  </thead>\n",
       "  <tbody>\n",
       "    <tr>\n",
       "      <th></th>\n",
       "      <td>int32</td>\n",
       "      <td>int8</td>\n",
       "      <td>int8</td>\n",
       "      <td>bool</td>\n",
       "      <td>bool</td>\n",
       "      <td>bool</td>\n",
       "    </tr>\n",
       "    <tr>\n",
       "      <th></th>\n",
       "      <td>...</td>\n",
       "      <td>...</td>\n",
       "      <td>...</td>\n",
       "      <td>...</td>\n",
       "      <td>...</td>\n",
       "      <td>...</td>\n",
       "    </tr>\n",
       "    <tr>\n",
       "      <th>...</th>\n",
       "      <td>...</td>\n",
       "      <td>...</td>\n",
       "      <td>...</td>\n",
       "      <td>...</td>\n",
       "      <td>...</td>\n",
       "      <td>...</td>\n",
       "    </tr>\n",
       "    <tr>\n",
       "      <th></th>\n",
       "      <td>...</td>\n",
       "      <td>...</td>\n",
       "      <td>...</td>\n",
       "      <td>...</td>\n",
       "      <td>...</td>\n",
       "      <td>...</td>\n",
       "    </tr>\n",
       "    <tr>\n",
       "      <th></th>\n",
       "      <td>...</td>\n",
       "      <td>...</td>\n",
       "      <td>...</td>\n",
       "      <td>...</td>\n",
       "      <td>...</td>\n",
       "      <td>...</td>\n",
       "    </tr>\n",
       "  </tbody>\n",
       "</table>\n",
       "</div>\n",
       "<div>Dask Name: assign, 2754 tasks</div>"
      ],
      "text/plain": [
       "Dask DataFrame Structure:\n",
       "                client_id age_start_observed age_end is_truncated is_censored is_dead\n",
       "npartitions=102                                                                      \n",
       "                    int32               int8    int8         bool        bool    bool\n",
       "                      ...                ...     ...          ...         ...     ...\n",
       "...                   ...                ...     ...          ...         ...     ...\n",
       "                      ...                ...     ...          ...         ...     ...\n",
       "                      ...                ...     ...          ...         ...     ...\n",
       "Dask Name: assign, 2754 tasks"
      ]
     },
     "execution_count": 32,
     "metadata": {},
     "output_type": "execute_result"
    }
   ],
   "source": [
    "fxx.memory_usage_optimization(data,config_file)"
   ]
  },
  {
   "cell_type": "code",
   "execution_count": 33,
   "id": "c2ba152b",
   "metadata": {},
   "outputs": [
    {
     "data": {
      "text/html": [
       "<div>\n",
       "<style scoped>\n",
       "    .dataframe tbody tr th:only-of-type {\n",
       "        vertical-align: middle;\n",
       "    }\n",
       "\n",
       "    .dataframe tbody tr th {\n",
       "        vertical-align: top;\n",
       "    }\n",
       "\n",
       "    .dataframe thead th {\n",
       "        text-align: right;\n",
       "    }\n",
       "</style>\n",
       "<table border=\"1\" class=\"dataframe\">\n",
       "  <thead>\n",
       "    <tr style=\"text-align: right;\">\n",
       "      <th></th>\n",
       "      <th>client_id</th>\n",
       "      <th>age_start_observed</th>\n",
       "      <th>age_end</th>\n",
       "      <th>is_truncated</th>\n",
       "      <th>is_censored</th>\n",
       "      <th>is_dead</th>\n",
       "    </tr>\n",
       "  </thead>\n",
       "  <tbody>\n",
       "    <tr>\n",
       "      <th>0</th>\n",
       "      <td>15113102</td>\n",
       "      <td>0</td>\n",
       "      <td>9</td>\n",
       "      <td>False</td>\n",
       "      <td>True</td>\n",
       "      <td>False</td>\n",
       "    </tr>\n",
       "    <tr>\n",
       "      <th>1</th>\n",
       "      <td>41505894</td>\n",
       "      <td>0</td>\n",
       "      <td>64</td>\n",
       "      <td>False</td>\n",
       "      <td>True</td>\n",
       "      <td>False</td>\n",
       "    </tr>\n",
       "  </tbody>\n",
       "</table>\n",
       "</div>"
      ],
      "text/plain": [
       "   client_id  age_start_observed  age_end  is_truncated  is_censored  is_dead\n",
       "0   15113102                   0        9         False         True    False\n",
       "1   41505894                   0       64         False         True    False"
      ]
     },
     "execution_count": 33,
     "metadata": {},
     "output_type": "execute_result"
    }
   ],
   "source": [
    "data.head(2)"
   ]
  },
  {
   "cell_type": "markdown",
   "id": "9517129d",
   "metadata": {},
   "source": [
    "### Missing values"
   ]
  },
  {
   "cell_type": "code",
   "execution_count": 34,
   "id": "fbdcddab",
   "metadata": {},
   "outputs": [
    {
     "data": {
      "text/html": [
       "<div><strong>Dask DataFrame Structure:</strong></div>\n",
       "<div>\n",
       "<style scoped>\n",
       "    .dataframe tbody tr th:only-of-type {\n",
       "        vertical-align: middle;\n",
       "    }\n",
       "\n",
       "    .dataframe tbody tr th {\n",
       "        vertical-align: top;\n",
       "    }\n",
       "\n",
       "    .dataframe thead th {\n",
       "        text-align: right;\n",
       "    }\n",
       "</style>\n",
       "<table border=\"1\" class=\"dataframe\">\n",
       "  <thead>\n",
       "    <tr style=\"text-align: right;\">\n",
       "      <th></th>\n",
       "      <th>client_id</th>\n",
       "      <th>age_start_observed</th>\n",
       "      <th>age_end</th>\n",
       "      <th>is_truncated</th>\n",
       "      <th>is_censored</th>\n",
       "      <th>is_dead</th>\n",
       "    </tr>\n",
       "    <tr>\n",
       "      <th>npartitions=102</th>\n",
       "      <th></th>\n",
       "      <th></th>\n",
       "      <th></th>\n",
       "      <th></th>\n",
       "      <th></th>\n",
       "      <th></th>\n",
       "    </tr>\n",
       "  </thead>\n",
       "  <tbody>\n",
       "    <tr>\n",
       "      <th></th>\n",
       "      <td>int32</td>\n",
       "      <td>int8</td>\n",
       "      <td>int8</td>\n",
       "      <td>bool</td>\n",
       "      <td>bool</td>\n",
       "      <td>bool</td>\n",
       "    </tr>\n",
       "    <tr>\n",
       "      <th></th>\n",
       "      <td>...</td>\n",
       "      <td>...</td>\n",
       "      <td>...</td>\n",
       "      <td>...</td>\n",
       "      <td>...</td>\n",
       "      <td>...</td>\n",
       "    </tr>\n",
       "    <tr>\n",
       "      <th>...</th>\n",
       "      <td>...</td>\n",
       "      <td>...</td>\n",
       "      <td>...</td>\n",
       "      <td>...</td>\n",
       "      <td>...</td>\n",
       "      <td>...</td>\n",
       "    </tr>\n",
       "    <tr>\n",
       "      <th></th>\n",
       "      <td>...</td>\n",
       "      <td>...</td>\n",
       "      <td>...</td>\n",
       "      <td>...</td>\n",
       "      <td>...</td>\n",
       "      <td>...</td>\n",
       "    </tr>\n",
       "    <tr>\n",
       "      <th></th>\n",
       "      <td>...</td>\n",
       "      <td>...</td>\n",
       "      <td>...</td>\n",
       "      <td>...</td>\n",
       "      <td>...</td>\n",
       "      <td>...</td>\n",
       "    </tr>\n",
       "  </tbody>\n",
       "</table>\n",
       "</div>\n",
       "<div>Dask Name: dropna, 2856 tasks</div>"
      ],
      "text/plain": [
       "Dask DataFrame Structure:\n",
       "                client_id age_start_observed age_end is_truncated is_censored is_dead\n",
       "npartitions=102                                                                      \n",
       "                    int32               int8    int8         bool        bool    bool\n",
       "                      ...                ...     ...          ...         ...     ...\n",
       "...                   ...                ...     ...          ...         ...     ...\n",
       "                      ...                ...     ...          ...         ...     ...\n",
       "                      ...                ...     ...          ...         ...     ...\n",
       "Dask Name: dropna, 2856 tasks"
      ]
     },
     "execution_count": 34,
     "metadata": {},
     "output_type": "execute_result"
    }
   ],
   "source": [
    "data = fxx.drop_missing_values(data)\n",
    "data"
   ]
  },
  {
   "cell_type": "markdown",
   "id": "55465852",
   "metadata": {},
   "source": [
    "### Saving clean data "
   ]
  },
  {
   "cell_type": "code",
   "execution_count": 35,
   "id": "96af062a",
   "metadata": {},
   "outputs": [
    {
     "data": {
      "text/plain": [
       "('Data saved as ', 'data_clean.gzip')"
      ]
     },
     "execution_count": 35,
     "metadata": {},
     "output_type": "execute_result"
    }
   ],
   "source": [
    "fxx.save_clean_data(data,config_file)"
   ]
  }
 ],
 "metadata": {
  "kernelspec": {
   "display_name": "Python 3",
   "language": "python",
   "name": "python3"
  },
  "language_info": {
   "codemirror_mode": {
    "name": "ipython",
    "version": 3
   },
   "file_extension": ".py",
   "mimetype": "text/x-python",
   "name": "python",
   "nbconvert_exporter": "python",
   "pygments_lexer": "ipython3",
   "version": "3.8.8"
  }
 },
 "nbformat": 4,
 "nbformat_minor": 5
}
